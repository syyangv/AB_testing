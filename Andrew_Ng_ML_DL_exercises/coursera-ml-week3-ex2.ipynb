{
 "cells": [
  {
   "cell_type": "code",
   "execution_count": 1,
   "metadata": {
    "_cell_guid": "b1076dfc-b9ad-4769-8c92-a6c4dae69d19",
    "_kg_hide-input": true,
    "_kg_hide-output": true,
    "_uuid": "8f2839f25d086af736a60e9eeb907d3b93b6e0e5"
   },
   "outputs": [
    {
     "name": "stdout",
     "output_type": "stream",
     "text": [
      "/kaggle/input/ex2data2.txt\n",
      "/kaggle/input/ex2data1.txt\n"
     ]
    }
   ],
   "source": [
    "# This Python 3 environment comes with many helpful analytics libraries installed\n",
    "# It is defined by the kaggle/python Docker image: https://github.com/kaggle/docker-python\n",
    "# For example, here's several helpful packages to load\n",
    "\n",
    "import numpy as np # linear algebra\n",
    "import pandas as pd # data processing, CSV file I/O (e.g. pd.read_csv)\n",
    "\n",
    "# Input data files are available in the read-only \"../input/\" directory\n",
    "# For example, running this (by clicking run or pressing Shift+Enter) will list all files under the input directory\n",
    "\n",
    "import os\n",
    "for dirname, _, filenames in os.walk('/kaggle/input'):\n",
    "    for filename in filenames:\n",
    "        print(os.path.join(dirname, filename))\n",
    "\n",
    "# You can write up to 5GB to the current directory (/kaggle/working/) that gets preserved as output when you create a version using \"Save & Run All\" \n",
    "# You can also write temporary files to /kaggle/temp/, but they won't be saved outside of the current session"
   ]
  },
  {
   "cell_type": "markdown",
   "execution_count": null,
   "metadata": {},
   "source": [
    "# Programming Exercise 1: Logistic Regression"
   ]
  },
  {
   "cell_type": "markdown",
   "execution_count": null,
   "metadata": {},
   "source": [
    "# 1 Logistic Regression"
   ]
  },
  {
   "cell_type": "code",
   "execution_count": 2,
   "metadata": {
    "_cell_guid": "79c7e3d0-c299-4dcb-8224-4455121ee9b0",
    "_uuid": "d629ff2d2480ee46fbb7e2d37f6b5fab8052498a"
   },
   "outputs": [
    {
     "name": "stdout",
     "output_type": "stream",
     "text": [
      "(100, 2)\n",
      "(100,)\n"
     ]
    }
   ],
   "source": [
    "'''\n",
    "Load Data\n",
    "The first two columns contains the exam scores and the third column contains the label.\n",
    "'''\n",
    "df1 = pd.read_csv('../input/ex2data1.txt', header=None)\n",
    "df1.columns = ['Exam 1 score', 'Exam 2 score', 'Admitted']\n",
    "#df1['Admitted'] = df1['Admitted'].astype('category')\n",
    "\n",
    "data = df1\n",
    "X = data.iloc[:,:2].values\n",
    "y = data.iloc[:,2].values\n",
    "\n",
    "print(X.shape)\n",
    "print(y.shape)"
   ]
  },
  {
   "cell_type": "markdown",
   "execution_count": null,
   "metadata": {},
   "source": [
    "## 1.1 Visualizing the data\n",
    "\n",
    "plots the data points with + for the positive examples and o for the negative examples. "
   ]
  },
  {
   "cell_type": "code",
   "execution_count": 3,
   "metadata": {},
   "outputs": [],
   "source": [
    "import matplotlib.pyplot as plt\n",
    "import seaborn as sns"
   ]
  },
  {
   "cell_type": "code",
   "execution_count": 4,
   "metadata": {},
   "outputs": [
    {
     "name": "stdout",
     "output_type": "stream",
     "text": [
      "Plotting data with + indicating (y = 1) examples and o indicating (y = 0) examples.\n",
      "\n"
     ]
    },
    {
     "data": {
      "text/plain": [
       "<matplotlib.legend.Legend at 0x7f1f4b8c2990>"
      ]
     },
     "execution_count": 4,
     "metadata": {},
     "output_type": "execute_result"
    },
    {
     "data": {
      "image/png": "[encoded data removed]",
      "text/plain": [
       "<Figure size 360x360 with 1 Axes>"
      ]
     },
     "metadata": {
      "needs_background": "light"
     },
     "output_type": "display_data"
    }
   ],
   "source": [
    "print('Plotting data with + indicating (y = 1) examples and o indicating (y = 0) examples.\\n');\n",
    "\n",
    "# plot with pandas dataframe\n",
    "\n",
    "ax = sns.lmplot(x = 'Exam 1 score' , y = 'Exam 2 score', data = df1,\n",
    "                hue = 'Admitted', \n",
    "                markers = ['o', '+'], palette = ['y', 'k'],\n",
    "                fit_reg=False, scatter_kws = {'s':80}, legend = False)\n",
    "# scatterplot/relplot/regplot allows only a very limited set of markers\n",
    "\n",
    "ax.set(xlabel = 'Exam 1 score', ylabel = 'Exam 2 score')\n",
    "\n",
    "#ax._legend.set(title = '')\n",
    "#new_labels = ['Not admitted', 'Admitted']\n",
    "#for t, l in zip(ax._legend.texts, new_labels): \n",
    "#    t.set_text(l)\n",
    "\n",
    "# add new legend instead of using the legend with sns\n",
    "plt.legend(title = '', loc = 'upper right', labels = ['Not admitted', 'Admitted'])\n",
    "\n",
    "    "
   ]
  },
  {
   "cell_type": "markdown",
   "execution_count": null,
   "metadata": {},
   "source": [
    "## 1.2 Implementation\n",
    "### 1.2.1 Warmup: sigmoid function"
   ]
  },
  {
   "cell_type": "code",
   "execution_count": 5,
   "metadata": {},
   "outputs": [],
   "source": [
    "def sigmoid(z):\n",
    "    '''\n",
    "    SIGMOID Compute sigmoid functoon\n",
    "    '''\n",
    "    return 1/(1+np.exp(-z))"
   ]
  },
  {
   "cell_type": "markdown",
   "execution_count": null,
   "metadata": {},
   "source": [
    "### 1.2.2 Compute Cost and Gradient"
   ]
  },
  {
   "cell_type": "markdown",
   "execution_count": null,
   "metadata": {},
   "source": [
    "the two functions are separated due to the input to the scipy optimization function in the following section"
   ]
  },
  {
   "cell_type": "code",
   "execution_count": 6,
   "metadata": {},
   "outputs": [],
   "source": [
    "def costFunction(theta, X, y):\n",
    "    '''\n",
    "    COSTFUNCTION Compute cost and gradient for logistic regression\n",
    "    \n",
    "    J = COSTFUNCTION(theta, X, y) computes the cost of using theta as the\n",
    "    parameter for logistic regression and \n",
    "    \n",
    "    X - shape (m, n)\n",
    "    theta - nparray shape (n+1,)\n",
    "    '''\n",
    "    # Setup the data matrix appropriately, and add ones for the intercept term\n",
    "    m,n = X.shape\n",
    "    \n",
    "    # Add intercept term to X\n",
    "    X = np.hstack([np.ones((m,1)), X]) # Add a column of ones to x\n",
    "    \n",
    "    m = len(y) # number of training examples\n",
    "    #n = X.shape[1]-1\n",
    "    y = y.reshape(m,1)\n",
    "    theta = theta.reshape(n+1,1)\n",
    "    \n",
    "    # h(x)\n",
    "    y_prob = sigmoid(X @ theta) # (m,1)\n",
    "    \n",
    "    # sum(-log(h(x))) for y = 1\n",
    "    y_1_useful = y_prob * y \n",
    "    J_y_1_sum = -sum(np.log(y_1_useful[y_1_useful!=0]))\n",
    "    \n",
    "    # sum(-log(h(x))) for y = 0\n",
    "    y_0_useful = (1 - y_prob) * (1-y)\n",
    "    J_y_0_sum = -sum(np.log(y_0_useful[y_0_useful!=0]))\n",
    "    \n",
    "    return (J_y_1_sum + J_y_0_sum)/m\n",
    "\n",
    "def gradientFunction(theta, X, y):\n",
    "    '''\n",
    "    computes the gradient of the cost w.r.t. to the parameters.\n",
    "    X - shape (m, n)\n",
    "    theta - nparray shape (n+1,)\n",
    "    '''\n",
    "    # Setup the data matrix appropriately, and add ones for the intercept term\n",
    "    m,n = X.shape\n",
    "    \n",
    "    # Add intercept term to X\n",
    "    X = np.hstack([np.ones((m,1)), X]) # Add a column of ones to x\n",
    "    \n",
    "    m = len(y) # number of training examples\n",
    "    #n = X.shape[1]-1\n",
    "    y = y.reshape(m,1)\n",
    "    theta = theta.reshape(n+1,1)\n",
    "\n",
    "    # h(x)\n",
    "    y_prob = sigmoid(X @ theta) # (m,1)\n",
    "    \n",
    "    return (X.T @ (y_prob - y))/m # (n+1,1)"
   ]
  },
  {
   "cell_type": "code",
   "execution_count": 7,
   "metadata": {},
   "outputs": [
    {
     "name": "stdout",
     "output_type": "stream",
     "text": [
      "Cost at initial theta (zeros): 0.693147180559945\n",
      "\n",
      "Gradient at initial theta (zeros): \n",
      "[-0.1, -12.00921658929115, -11.262842205513593]\n",
      "\n"
     ]
    }
   ],
   "source": [
    "m, n = X.shape\n",
    "# Initialize fitting parameters\n",
    "initial_theta = np.zeros(n + 1)\n",
    "\n",
    "\n",
    "# Compute and display initial cost and gradient\n",
    "cost = costFunction(initial_theta, X, y)\n",
    "grad = gradientFunction(initial_theta, X, y)\n",
    "\n",
    "print('Cost at initial theta (zeros): {}\\n'.format(cost))\n",
    "print('Gradient at initial theta (zeros): \\n{}\\n'.format(grad.flatten().tolist()))\n"
   ]
  },
  {
   "cell_type": "markdown",
   "execution_count": null,
   "metadata": {},
   "source": [
    "### 1.2.3 Learning parameters using *fminunc*"
   ]
  },
  {
   "cell_type": "markdown",
   "execution_count": null,
   "metadata": {},
   "source": [
    "Unconstrained minimization of a function using the Newton-Conjugate-Gradient method\n",
    "fmin_ncg - unconstrained minimization\n",
    "fmin_tnc - box constrained - lower and upper bounds\n",
    "\n",
    "fmin_tnc only takes 1d array"
   ]
  },
  {
   "cell_type": "code",
   "execution_count": 8,
   "metadata": {},
   "outputs": [
    {
     "name": "stdout",
     "output_type": "stream",
     "text": [
      "Cost at theta found by fminunc: 0.20349770158947492\n",
      "\n",
      "theta: \n",
      "[-25.16131854   0.20623159   0.20147149]\n",
      "\n"
     ]
    }
   ],
   "source": [
    "from scipy.optimize import fmin_tnc\n",
    "\n",
    "# get optimal theta\n",
    "temp = fmin_tnc(func = costFunction, x0 = initial_theta, fprime= gradientFunction, args = (X, y))\n",
    "\n",
    "theta = temp[0]\n",
    "# Print theta to screen\n",
    "print('Cost at theta found by fminunc: {}\\n'.format(costFunction(theta, X, y)))\n",
    "print('theta: \\n{}\\n'.format(theta))\n"
   ]
  },
  {
   "cell_type": "markdown",
   "execution_count": null,
   "metadata": {},
   "source": [
    "### 1.2.4 Evaluating logistic regression"
   ]
  },
  {
   "cell_type": "code",
   "execution_count": 9,
   "metadata": {},
   "outputs": [],
   "source": [
    "def predict(theta, X):\n",
    "    '''\n",
    "    PREDICT Predict whether the label is 0 or 1 using learned logistic regression parameters theta\n",
    "    p = PREDICT(theta, X) computes the predictions for X using a threshold at 0.5 \n",
    "    (i.e., if sigmoid(theta'*x) >= 0.5, predict 1)\n",
    "    \n",
    "    returns a 1d array with binary predictions\n",
    "    '''\n",
    "    m,n = X.shape\n",
    "    \n",
    "    # Add intercept term to X\n",
    "    X = np.hstack([np.ones((m,1)), X]) # Add a column of ones to x (m, n+1)\n",
    "    \n",
    "    m = len(y) # number of training examples\n",
    "    \n",
    "    theta = theta.reshape(n+1,1)\n",
    "    \n",
    "    y_prob = sigmoid(X @ theta)\n",
    "    \n",
    "    y_pred = (y_prob >= 0.5).astype(int)\n",
    "    \n",
    "    return y_pred.flatten()"
   ]
  },
  {
   "cell_type": "code",
   "execution_count": 10,
   "metadata": {},
   "outputs": [
    {
     "name": "stdout",
     "output_type": "stream",
     "text": [
      "For a student with scores 45 and 85, we predict an admission probability of 0.7763\n",
      "\n",
      "\n"
     ]
    }
   ],
   "source": [
    "prob = sigmoid(np.array([1,45,85]) @ theta)\n",
    "print('For a student with scores 45 and 85, we predict an admission probability of {:.4f}\\n\\n'.format(prob))"
   ]
  },
  {
   "cell_type": "code",
   "execution_count": 11,
   "metadata": {},
   "outputs": [
    {
     "name": "stdout",
     "output_type": "stream",
     "text": [
      "Train Accuracy: %89.00\n",
      "\n"
     ]
    }
   ],
   "source": [
    "# Compute accuracy on our training set\n",
    "p = predict(theta, X)\n",
    "\n",
    "print('Train Accuracy: %{:.2f}\\n'.format(np.mean(p == y)*100))"
   ]
  },
  {
   "cell_type": "markdown",
   "execution_count": null,
   "metadata": {},
   "source": [
    "plot decision boundary"
   ]
  },
  {
   "cell_type": "code",
   "execution_count": 12,
   "metadata": {},
   "outputs": [
    {
     "data": {
      "text/plain": [
       "[<matplotlib.lines.Line2D at 0x7f1f4b75db50>]"
      ]
     },
     "execution_count": 12,
     "metadata": {},
     "output_type": "execute_result"
    },
    {
     "data": {
      "image/png": "[encoded data removed]",
      "text/plain": [
       "<Figure size 360x360 with 1 Axes>"
      ]
     },
     "metadata": {
      "needs_background": "light"
     },
     "output_type": "display_data"
    }
   ],
   "source": [
    "ax1 = sns.lmplot(x = 'Exam 1 score' , y = 'Exam 2 score', data = df1,\n",
    "                hue = 'Admitted', \n",
    "                markers = ['o', '+'], palette = ['y', 'k'],\n",
    "                fit_reg=False, scatter_kws = {'s':80}, legend = False)\n",
    "# scatterplot/relplot/regplot allows only a very limited set of markers\n",
    "\n",
    "ax1.set(xlabel = 'Exam 1 score', ylabel = 'Exam 2 score')\n",
    "\n",
    "#ax._legend.set(title = '')\n",
    "#new_labels = ['Not admitted', 'Admitted']\n",
    "#for t, l in zip(ax._legend.texts, new_labels): \n",
    "#    t.set_text(l)\n",
    "\n",
    "# add new legend instead of using the legend with sns\n",
    "plt.legend(title = '', loc = 'upper right', labels = ['Not admitted', 'Admitted'])\n",
    "\n",
    "x = np.linspace(min(df1['Exam 1 score']), max(df1['Exam 1 score']), 1000)\n",
    "plt.plot(x, (-theta[1]*x - theta[0])/theta[2])"
   ]
  },
  {
   "cell_type": "markdown",
   "execution_count": null,
   "metadata": {},
   "source": [
    "supplementary: using scikit learn"
   ]
  },
  {
   "cell_type": "code",
   "execution_count": 13,
   "metadata": {},
   "outputs": [],
   "source": [
    "data = df1\n",
    "data = df1\n",
    "X = data.iloc[:,:2].values\n",
    "y = data.iloc[:,2].values\n",
    "m = len(y)"
   ]
  },
  {
   "cell_type": "code",
   "execution_count": 14,
   "metadata": {},
   "outputs": [
    {
     "name": "stdout",
     "output_type": "stream",
     "text": [
      "Theta found by Scikit-Learn: -25.0520, 0.2054, 0.2006\n",
      "\n",
      "Train Accuracy: %89.00\n",
      "\n"
     ]
    }
   ],
   "source": [
    "from sklearn.linear_model import LogisticRegression\n",
    "\n",
    "regression_model = LogisticRegression(solver = 'newton-cg', max_iter = 400)\n",
    "regression_model.fit(X, y)\n",
    "print('Theta found by Scikit-Learn: {0:.4f}, {1[0]:.4f}, {1[1]:.4f}\\n'.format(regression_model.intercept_[0], regression_model.coef_[0].tolist()))\n",
    "\n",
    "theta = np.append(regression_model.intercept_, regression_model.coef_[0])\n",
    "# Compute accuracy on our training set\n",
    "p = predict(theta, X)\n",
    "\n",
    "print('Train Accuracy: %{:.2f}\\n'.format(np.mean(p == y)*100))"
   ]
  },
  {
   "cell_type": "markdown",
   "execution_count": null,
   "metadata": {},
   "source": [
    "# 2 Regularized logistic regression\n",
    "## 2.1 Visualizing the data"
   ]
  },
  {
   "cell_type": "code",
   "execution_count": 15,
   "metadata": {},
   "outputs": [
    {
     "name": "stdout",
     "output_type": "stream",
     "text": [
      "(117, 2)\n",
      "(117,)\n"
     ]
    },
    {
     "data": {
      "text/plain": [
       "<matplotlib.legend.Legend at 0x7f1f488e8650>"
      ]
     },
     "execution_count": 15,
     "metadata": {},
     "output_type": "execute_result"
    },
    {
     "data": {
      "image/png": "[encoded data removed]",
      "text/plain": [
       "<Figure size 360x360 with 1 Axes>"
      ]
     },
     "metadata": {
      "needs_background": "light"
     },
     "output_type": "display_data"
    }
   ],
   "source": [
    "df2 = pd.read_csv('../input/ex2data2.txt')\n",
    "df2.columns = ['Microchip Test 1', 'Microchip Test 2', 'Accepted']\n",
    "#df1['Admitted'] = df1['Admitted'].astype('category')\n",
    "\n",
    "data = df2\n",
    "X = data.iloc[:,:2].values\n",
    "y = data.iloc[:,2].values\n",
    "\n",
    "print(X.shape)\n",
    "print(y.shape)\n",
    "\n",
    "# plot with pandas dataframe\n",
    "\n",
    "ax2 = sns.lmplot(x = 'Microchip Test 1' , y = 'Microchip Test 2', data = df2,\n",
    "                hue = 'Accepted', \n",
    "                markers = ['o', '+'], palette = ['y', 'k'],\n",
    "                fit_reg=False, scatter_kws = {'s':80}, legend = False)\n",
    "\n",
    "ax2.set(xlabel = 'Microchip Test 1', ylabel = 'Microchip Test 2')\n",
    "\n",
    "#ax._legend.set(title = '')\n",
    "#new_labels = ['Not admitted', 'Admitted']\n",
    "#for t, l in zip(ax._legend.texts, new_labels): \n",
    "#    t.set_text(l)\n",
    "\n",
    "# add new legend instead of using the legend with sns\n",
    "plt.legend(title = '', loc = 'upper right', labels = ['y = 0', 'y = 1'])"
   ]
  },
  {
   "cell_type": "markdown",
   "execution_count": null,
   "metadata": {},
   "source": [
    "## 2.2 Feature mapping"
   ]
  },
  {
   "cell_type": "code",
   "execution_count": 16,
   "metadata": {},
   "outputs": [],
   "source": [
    "def mapFeature(X1, X2):\n",
    "    '''\n",
    "    MAPFEATURE Feature mapping function to polynomial features\n",
    "    \n",
    "    MAPFEATURE(X1, X2) maps the two input features to quadratic features used in the regularization exercise.\n",
    "\n",
    "    Returns a new feature array with more features\n",
    "    X1, X2 - 1d arrays\n",
    "    '''\n",
    "    degree = 6\n",
    "    m = len(X1)\n",
    "    \n",
    "    out = np.ones((m,1)) # intercept column - X1^0*X2^0\n",
    "    \n",
    "    for i in np.arange(degree) + 1: # 1,2,3,4,5,6\n",
    "        for j in np.arange(i+1): \n",
    "            new_var = (X1**(i-j))*(X2**j)\n",
    "            \n",
    "            # update out\n",
    "            out = np.hstack([out, new_var.reshape(m,1)])\n",
    "            \n",
    "            \n",
    "    return out"
   ]
  },
  {
   "cell_type": "code",
   "execution_count": 17,
   "metadata": {},
   "outputs": [],
   "source": [
    "# Add Polynomial Features to the sixth power\n",
    "#Note that mapFeature also adds a column of ones for us, so the intercept term is handled\n",
    "X_poly = mapFeature(X[:,0], X[:,1])\n",
    "\n",
    "\n",
    "# Initialize fitting parameters\n",
    "initial_theta = np.zeros((X_poly.shape[1], 1))\n"
   ]
  },
  {
   "cell_type": "markdown",
   "execution_count": null,
   "metadata": {},
   "source": [
    "## 2.3 Cost function and gradient"
   ]
  },
  {
   "cell_type": "code",
   "execution_count": 18,
   "metadata": {},
   "outputs": [],
   "source": [
    "def costFunctionReg(theta, X, y, param_lambda):\n",
    "    '''\n",
    "    COSTFUNCTION Compute cost and gradient for logistic regression\n",
    "    \n",
    "    J = COSTFUNCTION(theta, X, y) computes the cost of using theta as the\n",
    "    parameter for logistic regression and \n",
    "    \n",
    "    X - shape (m, n+1)\n",
    "    theta - nparray shape (n+1,)\n",
    "    '''\n",
    "    # Setup the data matrix appropriately, and add ones for the intercept term\n",
    "    m = X.shape[0]\n",
    "    n = X.shape[1]-1\n",
    "    \n",
    "    m = len(y) # number of training examples\n",
    "    #n = X.shape[1]-1\n",
    "    y = y.reshape(m,1)\n",
    "    theta = theta.reshape(n+1,1)\n",
    "    \n",
    "    # h(x)\n",
    "    y_prob = sigmoid(X @ theta) # (m,1)\n",
    "    \n",
    "    # sum(-log(h(x))) for y = 1\n",
    "    y_1_useful = y_prob * y \n",
    "    J_y_1_sum = -sum(np.log(y_1_useful[y_1_useful!=0]))\n",
    "    \n",
    "    # sum(-log(h(x))) for y = 0\n",
    "    y_0_useful = (1 - y_prob) * (1-y)\n",
    "    J_y_0_sum = -sum(np.log(y_0_useful[y_0_useful!=0]))\n",
    "    \n",
    "    # regularization term\n",
    "    loss_reg = sum(theta[1:]**2)*param_lambda/(2*m)\n",
    "    \n",
    "    \n",
    "    return (J_y_1_sum + J_y_0_sum)/m + loss_reg\n",
    "\n",
    "def gradientFunctionReg(theta, X, y, param_lambda):\n",
    "    '''\n",
    "    computes the gradient of the cost w.r.t. to the parameters.\n",
    "    X - shape (m, n+1)\n",
    "    theta - nparray shape (n+1,)\n",
    "    '''\n",
    "    # Setup the data matrix appropriately, and add ones for the intercept term\n",
    "    m = X.shape[0]\n",
    "    n = X.shape[1]-1\n",
    "    \n",
    "    \n",
    "    m = len(y) # number of training examples\n",
    "    #n = X.shape[1]-1\n",
    "    y = y.reshape(m,1)\n",
    "    theta = theta.reshape(n+1,1)\n",
    "\n",
    "    # h(x)\n",
    "    y_prob = sigmoid(X @ theta) # (m,1)\n",
    "    \n",
    "    return (X.T @ (y_prob - y))/m + np.vstack([0, param_lambda*theta[1:]/m]) # (n+1,1)"
   ]
  },
  {
   "cell_type": "code",
   "execution_count": 19,
   "metadata": {},
   "outputs": [
    {
     "name": "stdout",
     "output_type": "stream",
     "text": [
      "Cost at initial theta (zeros): [0.69314718]\n",
      "\n",
      "Gradient at initial theta (zeros): \n",
      "[0.01282051282051282, 0.01916776495726496, 0.003068008547008555, 0.05078616767465384, 0.011752899180905984, 0.040078154574589755, 0.01851345183555408, 0.007394389146565815, 0.008369684636117172, 0.025140192216457198, 0.039684965981326904, 0.002258780692781237, 0.012975462096700625, 0.003197404367994946, 0.04066222960255815, 0.020141438383357003, 0.0043668600899872305, 0.003415664746726006, 0.005891965441950589, 0.004567020871685794, 0.03198900376215415, 0.03129646861574409, 0.0011067829511923228, 0.006369702823656752, 0.0004121916238020609, 0.007329827597113475, 0.0014249332090266282, 0.03962608619336864]\n",
      "\n"
     ]
    }
   ],
   "source": [
    "# Set regularization parameter lambda to 1\n",
    "lambda_pick = 1\n",
    "\n",
    "# Compute and display initial cost and gradient for regularized logistic regression\n",
    "cost = costFunctionReg(initial_theta, X_poly, y, lambda_pick)\n",
    "grad = gradientFunctionReg(initial_theta, X_poly, y, lambda_pick) \n",
    "\n",
    "\n",
    "print('Cost at initial theta (zeros): {}\\n'.format(cost))\n",
    "print('Gradient at initial theta (zeros): \\n{}\\n'.format(grad.flatten().tolist()))\n",
    "\n"
   ]
  },
  {
   "cell_type": "markdown",
   "execution_count": null,
   "metadata": {},
   "source": [
    "### 2.3.1 Learning parameters using fmin_tnc"
   ]
  },
  {
   "cell_type": "code",
   "execution_count": 20,
   "metadata": {},
   "outputs": [
    {
     "name": "stdout",
     "output_type": "stream",
     "text": [
      "Cost at theta found by fminunc: [0.53040753]\n",
      "\n",
      "theta: \n",
      "[ 1.25723705  0.61812465  1.15134374 -1.99067944 -0.92090352 -1.44686543\n",
      "  0.1271611  -0.3434408  -0.36099965 -0.1793736  -1.45410588 -0.04724003\n",
      " -0.60274445 -0.27701628 -1.18790241 -0.24240983 -0.19950713 -0.04328086\n",
      " -0.26793983 -0.29784933 -0.44416639 -1.04441741  0.02966498 -0.28948186\n",
      "  0.01695701 -0.3208404  -0.14558627 -0.90826376]\n",
      "\n"
     ]
    }
   ],
   "source": [
    "from scipy.optimize import fmin_tnc\n",
    "\n",
    "# get optimal theta\n",
    "temp = fmin_tnc(func = costFunctionReg, x0 = initial_theta, fprime= gradientFunctionReg, args = (X_poly, y, lambda_pick))\n",
    "\n",
    "theta = temp[0]\n",
    "# Print theta to screen\n",
    "print('Cost at theta found by fminunc: {}\\n'.format(costFunctionReg(theta, X_poly, y, lambda_pick)))\n",
    "print('theta: \\n{}\\n'.format(theta))"
   ]
  },
  {
   "cell_type": "markdown",
   "execution_count": null,
   "metadata": {},
   "source": [
    "## 2.4 Evaluation"
   ]
  },
  {
   "cell_type": "code",
   "execution_count": 21,
   "metadata": {},
   "outputs": [],
   "source": [
    "def predictReg(theta, X):\n",
    "    '''\n",
    "    PREDICT Predict whether the label is 0 or 1 using learned logistic regression parameters theta\n",
    "    p = PREDICT(theta, X) computes the predictions for X using a threshold at 0.5 \n",
    "    (i.e., if sigmoid(theta'*x) >= 0.5, predict 1)\n",
    "    \n",
    "    returns a 1d array with binary predictions\n",
    "    '''\n",
    "    m = X.shape[0]\n",
    "    n = X.shape[1]-1\n",
    "    \n",
    "    m = len(y) # number of training examples\n",
    "    #n = X.shape[1]-1\n",
    "    theta = theta.reshape(n+1,1)\n",
    "    \n",
    "    y_prob = sigmoid(X @ theta)\n",
    "    \n",
    "    y_pred = (y_prob >= 0.5).astype(int)\n",
    "    \n",
    "    return y_pred.flatten()"
   ]
  },
  {
   "cell_type": "code",
   "execution_count": 22,
   "metadata": {},
   "outputs": [
    {
     "data": {
      "text/plain": [
       "<matplotlib.legend.Legend at 0x7f1f4b7b6d50>"
      ]
     },
     "execution_count": 22,
     "metadata": {},
     "output_type": "execute_result"
    },
    {
     "data": {
      "image/png": "[encoded data removed]",
      "text/plain": [
       "<Figure size 360x360 with 1 Axes>"
      ]
     },
     "metadata": {
      "needs_background": "light"
     },
     "output_type": "display_data"
    }
   ],
   "source": [
    "ax3 = sns.lmplot(x = 'Microchip Test 1' , y = 'Microchip Test 2', data = df2,\n",
    "                hue = 'Accepted', \n",
    "                markers = ['o', '+'], palette = ['y', 'k'],\n",
    "                fit_reg=False, scatter_kws = {'s':80}, legend = False)\n",
    "\n",
    "ax3.set(xlabel = 'Microchip Test 1', ylabel = 'Microchip Test 2')\n",
    "\n",
    "\n",
    "u = np.linspace(min(df2['Microchip Test 1']), max(df2['Microchip Test 1']), 100)\n",
    "v = np.linspace(min(df2['Microchip Test 2']), max(df2['Microchip Test 2']), 100)\n",
    "\n",
    "z = np.zeros((len(u), len(v)))\n",
    "# evaluate z = x @ theta over the grid\n",
    "for i in np.arange(len(u)):\n",
    "    for j in np.arange(len(v)):\n",
    "        z[i,j] = mapFeature(np.array([u[i]]), np.array([v[j]])) @ theta\n",
    "\n",
    "plt.contour(u, v, z.T, 0)\n",
    "\n",
    "# add new legend instead of using the legend with sns\n",
    "plt.legend(title = '', loc = 'upper right', labels = ['y = 0', 'y = 1'])"
   ]
  },
  {
   "cell_type": "code",
   "execution_count": 23,
   "metadata": {},
   "outputs": [
    {
     "name": "stdout",
     "output_type": "stream",
     "text": [
      "Train Accuracy: %82.91\n",
      "\n"
     ]
    }
   ],
   "source": [
    "\n",
    "# Compute accuracy on our training set\n",
    "p = predictReg(theta, X_poly);\n",
    "\n",
    "print('Train Accuracy: %{:.2f}\\n'.format(np.mean(p == y)*100))"
   ]
  },
  {
   "cell_type": "code",
   "execution_count": 24,
   "metadata": {},
   "outputs": [
    {
     "data": {
      "text/plain": [
       "(117, 28)"
      ]
     },
     "execution_count": 24,
     "metadata": {},
     "output_type": "execute_result"
    }
   ],
   "source": [
    "X_poly.shape"
   ]
  },
  {
   "cell_type": "code",
   "execution_count": 25,
   "metadata": {},
   "outputs": [
    {
     "name": "stdout",
     "output_type": "stream",
     "text": [
      "Theta found by Scikit-Learn: 1.2572, \n",
      "0.6181, 1.1514, -1.9906, -0.9209, -1.4469, 0.1271, -0.3434, -0.3610, -0.1794, -1.4541, -0.0473, -0.6028, -0.2770, -1.1879, -0.2424, -0.1995, -0.0433, -0.2679, -0.2979, -0.4441, -1.0444, 0.0297, -0.2895, 0.0170, -0.3208, -0.1456, -0.9082\n"
     ]
    }
   ],
   "source": [
    "data = df2\n",
    "X = X_poly[:,1:]\n",
    "y = data.iloc[:,2].values\n",
    "m = len(y)\n",
    "\n",
    "\n",
    "from sklearn.linear_model import LogisticRegression\n",
    "\n",
    "regression_model = LogisticRegression(penalty = 'l2', solver = 'newton-cg', max_iter = 400)\n",
    "regression_model.fit(X, y)\n",
    "\n",
    "#thetas = [i for i in regression_model.coef_[0]]\n",
    "print('Theta found by Scikit-Learn: {:.4f}, '.format(regression_model.intercept_[0]))\n",
    "print(', '.join('{:.4f}'.format(i) for i in regression_model.coef_[0]))"
   ]
  },
  {
   "cell_type": "code",
   "execution_count": 26,
   "metadata": {},
   "outputs": [
    {
     "name": "stdout",
     "output_type": "stream",
     "text": [
      "Train Accuracy: %82.91\n",
      "\n"
     ]
    }
   ],
   "source": [
    "theta = np.append(regression_model.intercept_, regression_model.coef_[0])\n",
    "# Compute accuracy on our training set\n",
    "p = predictReg(theta, X_poly)\n",
    "\n",
    "print('Train Accuracy: %{:.2f}\\n'.format(np.mean(p == y)*100))"
   ]
  }
 ],
 "metadata": {
  "kernelspec": {
   "display_name": "Python 3",
   "language": "python",
   "name": "python3"
  },
  "language_info": {
   "codemirror_mode": {
    "name": "ipython",
    "version": 3
   },
   "file_extension": ".py",
   "mimetype": "text/x-python",
   "name": "python",
   "nbconvert_exporter": "python",
   "pygments_lexer": "ipython3",
   "version": "3.7.6"
  }
 },
 "nbformat": 4,
 "nbformat_minor": 4
}
